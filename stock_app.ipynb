{
 "cells": [
  {
   "cell_type": "code",
   "execution_count": null,
   "metadata": {
    "collapsed": false,
    "deletable": true,
    "editable": true
   },
   "outputs": [
    {
     "name": "stderr",
     "output_type": "stream",
     "text": [
      " * Running on http://0.0.0.0:33507/ (Press CTRL+C to quit)\n",
      "73.71.236.71 - - [17/Jun/2017 22:02:21] \"GET /index HTTP/1.1\" 200 -\n",
      "73.71.236.71 - - [17/Jun/2017 22:02:21] \"GET /static/style_lulu.css HTTP/1.1\" 404 -\n",
      "73.71.236.71 - - [17/Jun/2017 22:02:27] \"POST /output HTTP/1.1\" 200 -\n"
     ]
    }
   ],
   "source": [
    "import requests\n",
    "import json\n",
    "from pandas import *\n",
    "import pandas as pd\n",
    "from datetime import datetime, timedelta\n",
    "import numpy as np\n",
    "from bokeh.layouts import gridplot\n",
    "from bokeh.plotting import figure, show, output_file, output_notebook\n",
    "from bokeh.layouts import row\n",
    "from flask import Flask, render_template, request, redirect, url_for\n",
    "import cgi\n",
    "import os\n",
    "from bokeh import embed\n",
    "\n",
    "def stock_price_basic():\n",
    "    ts1 = figure(plot_width=500, plot_height=400)\n",
    "    ts1.line([1,2,3,4], [-1,-2,4,5])\n",
    "    return ts1\n",
    "\n",
    "def stock_price():\n",
    "    #print 'stock=', request.form['stock']\n",
    "    #print 'upper=', request.form['stock'].upper()\n",
    "    ticker = request.form['stock'].upper()\n",
    "#     ticker = 'GOOG'\n",
    "    end_date = datetime.now().strftime(\"%Y%m%d\")\n",
    "    start_date = (datetime.now() - timedelta(days=30)).strftime(\"%Y%m%d\")\n",
    "    search_url = 'https://www.quandl.com/api/v3/datatables/WIKI/PRICES.json?' + 'date.gte=' + str(start_date) + '&date.lt=' + str(end_date) + '&ticker=' + ticker +'&api_key=WSUJv2tGoh2Wb_2_saYW'\n",
    "    search_r = requests.get(search_url)\n",
    "    search_data = search_r.json()\n",
    "    interested_list = search_data['datatable']['data']\n",
    "    df = DataFrame(interested_list)\n",
    "    data_cols = [l['name'] for l in search_data['datatable']['columns']]   \n",
    "    df.columns= [x.encode('UTF8') for x in data_cols]    \n",
    "    #output_file(\"stock_price1.html\")\n",
    "    ts1 = figure(plot_width=500, plot_height=400, x_axis_type='datetime')\n",
    "    ######\n",
    "    x_vals = np.array(df['date'],dtype=np.datetime64)\n",
    "    ts1.line(x_vals, df['close'])\n",
    "    #ts1.line([1,2,3,4], [-1,-2,4,5])\n",
    "    #output_notebook()\n",
    "    #show(ts1)\n",
    "    return ts1\n",
    "    #return show(ts1)\n",
    "    #stock_price('GOOG')\n",
    "    # print date_list\n",
    "        \n",
    "app = Flask(__name__)\n",
    "\n",
    "#selector = {}\n",
    "\n",
    "@app.route('/')\n",
    "def main():\n",
    "  return redirect('/index')\n",
    "\n",
    "@app.route('/index', methods=['GET','POST'])\n",
    "def index():\n",
    "  #print 'rendering index.html'\n",
    "  return render_template('index2.html')\n",
    "    \n",
    "@app.route('/output',methods=['GET','POST'])\n",
    "def plot_page():\n",
    "    plot = stock_price()\n",
    "    #print 'output'\n",
    "    script, div = embed.components(plot)\n",
    "    return render_template('output.html', script=script, div=div)\n",
    "    #return render_template('index3.html')\n",
    "\n",
    "\n",
    "if __name__ == '__main__':\n",
    "    #stock_price()\n",
    "    port = int(os.environ.get(\"PORT\", 33507))\n",
    "    app.run(host='0.0.0.0', port=port)"
   ]
  },
  {
   "cell_type": "code",
   "execution_count": null,
   "metadata": {
    "collapsed": true,
    "deletable": true,
    "editable": true
   },
   "outputs": [],
   "source": []
  },
  {
   "cell_type": "code",
   "execution_count": null,
   "metadata": {
    "collapsed": true,
    "deletable": true,
    "editable": true
   },
   "outputs": [],
   "source": []
  }
 ],
 "metadata": {
  "kernelspec": {
   "display_name": "Python 2",
   "language": "python",
   "name": "python2"
  },
  "language_info": {
   "codemirror_mode": {
    "name": "ipython",
    "version": 2
   },
   "file_extension": ".py",
   "mimetype": "text/x-python",
   "name": "python",
   "nbconvert_exporter": "python",
   "pygments_lexer": "ipython2",
   "version": "2.7.13"
  }
 },
 "nbformat": 4,
 "nbformat_minor": 2
}
